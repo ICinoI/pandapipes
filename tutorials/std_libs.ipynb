{
 "cells": [
  {
   "cell_type": "markdown",
   "metadata": {},
   "source": [
    "# Standardbibliotheken"
   ]
  },
  {
   "cell_type": "markdown",
   "metadata": {},
   "source": [
    "Genau wie pandapower stellt auch pandapipes eine Reihe an Standardbibliotheken zur Verfügung, um die Arbeit mit dem Programm zu beschleunigen. Im Unterschied zu pandapower gibt es aber nicht nur eine Bauteil- sondern auch eine Fluidbibliothek, in der nach der Installation von pandapipes bereits einige Fluide abgelegt sind. Natürlich ist es aber auch möglich, neue Fluide zu erzeugen und diese der Bibliothek hinzuzufügen.\n",
    "\n",
    "Dieses Tutorial demonstriert den grundlegenden Umgang mit den hinterlegten Bibliotheken und zeigt, wie Komponenten und Fluide geladen und gespeichert werden können. Wir beginnen mit der Demonstration der Komponentenbibliothek, über welche pandapipes verschiedene Rohrleitungen und Pumpen zur Verfügung stellt.\n"
   ]
  },
  {
   "cell_type": "markdown",
   "metadata": {},
   "source": [
    "## pandapipes-Komponentenbibliothek"
   ]
  },
  {
   "cell_type": "markdown",
   "metadata": {},
   "source": [
    "Mit Hilfe der Funktion \"get_data\", welche im Modul std_type_toolbox definiert wird, lassen sich alle aktuell vorhandenen Einträge in der Standardbibliothek einsehen. Neben dem Pfad zur entsprechenden Datei wird in einem zweiten Parameter auch der Komponententyp abgefragt. Im Folgenden werden die Einträge der gespeicherten pipes geplottet."
   ]
  },
  {
   "cell_type": "code",
   "execution_count": 1,
   "metadata": {},
   "outputs": [
    {
     "name": "stdout",
     "output_type": "stream",
     "text": [
      "std_type                 80_GGG 100_GGG 125_GGG 150_GGG 200_GGG 250_GGG  \\\n",
      "nominal_width_mm             80     100     125     150     200     250   \n",
      "outer_diameter_mm            98     118     144     170     222     274   \n",
      "inner_diameter_mm            86   105.8   131.6     157     208     259   \n",
      "standard_dimension_ratio  16.33   19.34   23.23   26.15   31.71   36.53   \n",
      "material                    GGG     GGG     GGG     GGG     GGG     GGG   \n",
      "\n",
      "std_type                 300_GGG 350_GGG 400_GGG 500_GGG  ... 600_ST<16  \\\n",
      "nominal_width_mm             300     350     400     500  ...       600   \n",
      "outer_diameter_mm            326     378     429     532  ...       610   \n",
      "inner_diameter_mm            310     361     411     512  ...     597.4   \n",
      "standard_dimension_ratio   40.75   44.47   47.67    53.2  ...     96.83   \n",
      "material                     GGG     GGG     GGG     GGG  ...        ST   \n",
      "\n",
      "std_type                 700_ST<16 800_ST<16 900_ST<16 1000_ST<16 1200_ST<16  \\\n",
      "nominal_width_mm               700       800       900       1000       1200   \n",
      "outer_diameter_mm              711       813       914       1016       1220   \n",
      "inner_diameter_mm            696.8       797       894        996       1198   \n",
      "standard_dimension_ratio    100.14    101.62      91.4      101.6     110.91   \n",
      "material                        ST        ST        ST         ST         ST   \n",
      "\n",
      "std_type                 1400_ST<16 1600_ST<16 1800_ST<16 2000_ST<16  \n",
      "nominal_width_mm               1400       1600       1800       2000  \n",
      "outer_diameter_mm              1420       1620       1820       2020  \n",
      "inner_diameter_mm              1398       1588       1785       1980  \n",
      "standard_dimension_ratio     129.09     101.25        104        101  \n",
      "material                         ST         ST         ST         ST  \n",
      "\n",
      "[5 rows x 220 columns]\n"
     ]
    }
   ],
   "source": [
    "from pandapipes.std_types.std_type_toolbox import get_data\n",
    "print(get_data(r'Pipe.csv', 'pipe'))\n",
    "\n"
   ]
  },
  {
   "cell_type": "markdown",
   "metadata": {},
   "source": [
    "Die CSV-Dateien können selbstverständlich erweitert werden, um neue Einträge hinzuzufügen. Wir werden jetzt ein Beispielnetzwerk erzeugen und dabei Komponenten aus der Bibliothek verwenden."
   ]
  },
  {
   "cell_type": "code",
   "execution_count": 2,
   "metadata": {},
   "outputs": [],
   "source": [
    "import pandapipes as pp\n",
    "net = pp.create_empty_network(fluid=\"water\")\n",
    "junction1 = pp.create_junction(net, pn_bar=1.0, tfluid_k=293.15, name=\"Connection to External Grid\")\n",
    "junction2 = pp.create_junction(net, pn_bar=1.0, tfluid_k=293.15, name=\"Junction\")\n",
    "junction3 = pp.create_junction(net, pn_bar=1.0, tfluid_k=293.15, name=\"Junction to sink\")\n",
    "medium_pressure_grid = pp.create_ext_grid(net, junction=junction1, p_bar=1, t_k=293.15, name=\"Grid Connection\")\n",
    "sink = pp.create_sink(net, junction=junction3, mdot_kg_per_s=23.05, name=\"Sink\")"
   ]
  },
  {
   "cell_type": "markdown",
   "metadata": {},
   "source": [
    "Im obigen Code fehlt noch eine Rohrverbindung zwischen junction1 und junction2. Wir laden dazu den Rohrtyp \"300_GGG\" aus der Bibliothek. Dazu wird die Funktion \"create_pipe\" verwendet. Im Gegensatz zur Funktion \"create_pipe_from_parameters\" aus dem Eingangsbeispiel, kann nun ein Parameter zum Laden eines Typs aus der Bibliothek angegeben werden."
   ]
  },
  {
   "cell_type": "code",
   "execution_count": 4,
   "metadata": {},
   "outputs": [],
   "source": [
    "pipe1 = pp.create_pipe(net, from_junction=junction2, to_junction=junction3, length_km=1, std_type=\"300_GGG\", name=\"Pipe 1\")"
   ]
  },
  {
   "cell_type": "markdown",
   "metadata": {},
   "source": [
    "Zwischen External Grid und Rohrleitung existiert ebenfalls noch keine Verbindung. Diese wird jetzt durch das Laden einer Pumpenkomponente geschaffen. Das Druckniveau des External Grids wird durch die Pumpe entsprechend der Pumpenkennlinie angehoben."
   ]
  },
  {
   "cell_type": "code",
   "execution_count": 5,
   "metadata": {},
   "outputs": [],
   "source": [
    "P1 = pp.create_pump(net, from_junction=junction1, to_junction=junction2, std_type=\"P1\")"
   ]
  },
  {
   "cell_type": "markdown",
   "metadata": {},
   "source": [
    "Das erstellte Netzwerk kann jetzt auf gewohnte Art berechnet werden."
   ]
  },
  {
   "cell_type": "code",
   "execution_count": 6,
   "metadata": {},
   "outputs": [
    {
     "data": {
      "text/html": [
       "<div>\n",
       "<style scoped>\n",
       "    .dataframe tbody tr th:only-of-type {\n",
       "        vertical-align: middle;\n",
       "    }\n",
       "\n",
       "    .dataframe tbody tr th {\n",
       "        vertical-align: top;\n",
       "    }\n",
       "\n",
       "    .dataframe thead th {\n",
       "        text-align: right;\n",
       "    }\n",
       "</style>\n",
       "<table border=\"1\" class=\"dataframe\">\n",
       "  <thead>\n",
       "    <tr style=\"text-align: right;\">\n",
       "      <th></th>\n",
       "      <th>deltap_bar</th>\n",
       "    </tr>\n",
       "  </thead>\n",
       "  <tbody>\n",
       "    <tr>\n",
       "      <th>0</th>\n",
       "      <td>3.995041</td>\n",
       "    </tr>\n",
       "  </tbody>\n",
       "</table>\n",
       "</div>"
      ],
      "text/plain": [
       "   deltap_bar\n",
       "0    3.995041"
      ]
     },
     "execution_count": 6,
     "metadata": {},
     "output_type": "execute_result"
    }
   ],
   "source": [
    "pp.pipeflow(net)\n",
    "net.res_pump\n"
   ]
  },
  {
   "cell_type": "markdown",
   "metadata": {},
   "source": [
    "Die Pumpe erhöht den Druck um 4 bar. Wir können das abschließend nachprüfen, indem wir noch einen Blick auf die Kennlinie der Pumpe werfen."
   ]
  },
  {
   "cell_type": "code",
   "execution_count": 7,
   "metadata": {},
   "outputs": [
    {
     "name": "stdout",
     "output_type": "stream",
     "text": [
      "   p_bar  Vdot_m3ph  degree\n",
      "0    6.1        0.0     2.0\n",
      "1    5.8       19.0     NaN\n",
      "2    4.0       83.0     NaN\n"
     ]
    }
   ],
   "source": [
    "print(get_data(r'P1.csv', 'pump'))"
   ]
  },
  {
   "cell_type": "markdown",
   "metadata": {},
   "source": [
    "Wir erkennen, dass ein Druckanstieg von 4 bar zu einem Volumenstrom von 83 m^3/h gehört. \"Zufällig\" wird dieser Volumenstrom genau von der definierten sink abgenommen (23.05 kg/s entsprechen 83 m^3/h) und durch die einzige vorhandene Rohrleitung transportiert."
   ]
  },
  {
   "cell_type": "markdown",
   "metadata": {},
   "source": [
    "## Die Fluidbibliothek"
   ]
  },
  {
   "cell_type": "markdown",
   "metadata": {},
   "source": [
    "Bisher wurde das Fluid als Parameter der Funktion \"create_empty_network\" definiert. Dabei wird intern auf die hinterlegten Materialeigenschaften zurückgegriffen, die unter dem angegebenen Namen gespeichert sind. Einige der hinterlegten Fluidtypen sind\n",
    "\n",
    "- air\n",
    "- hydrogen\n",
    "- lgas\n",
    "- hgas\n",
    "- water\n",
    "- methane\n",
    "\n",
    "Für die Berechnung der Druckes und der Strömungsgeschwindigkeit muss die Dichte und Viskosität angegeben werden. Bei Gasberechnungen können diese Stoffeigenschaften außerdem temperaturabhängig sein. Für Temperaturberechnungen oder weitere Berechnungsmodi können weitere Stoffeigenschaften, bspw. die Wärmekapazität, benötigt werden.\n",
    "\n",
    "Einen Überblick über die hinterlegten Eigenschaften und Fluide erhalten Sie unter pandapipes\\properties. Im Ordner des entsprechenden Fluids sehen Sie die Stoffeigenschaften, für die aktuell Daten zur Verfügung stehen. In der zugehörigen Textdatei können Stützpunkte für die Temperaturabhängigkeit hinterlegt werden. Während der Berechnung wird zwischen diesen Punkten interpoliert.\n",
    "\n",
    "Über das aktuell im Netz enthaltende Fluid können Sie auch aus dem Programm heraus einiges in Erfahrung bringen. Dabei hilft die Funktion get_property(), wie im Folgenden demonstriert wird."
   ]
  },
  {
   "cell_type": "code",
   "execution_count": 8,
   "metadata": {},
   "outputs": [
    {
     "data": {
      "text/plain": [
       "array(997.746)"
      ]
     },
     "execution_count": 8,
     "metadata": {},
     "output_type": "execute_result"
    }
   ],
   "source": [
    "net.fluid.get_property(\"density\", 295)"
   ]
  },
  {
   "cell_type": "markdown",
   "metadata": {},
   "source": [
    "Der zweite Parameter ist die Temperatur, bei der die Dichte ausgegeben werden soll."
   ]
  },
  {
   "cell_type": "markdown",
   "metadata": {},
   "source": [
    "## Neue Fluide definieren"
   ]
  },
  {
   "cell_type": "markdown",
   "metadata": {},
   "source": [
    "pandapipes bietet die Möglichkeit, neue Fluide zu definieren oder bestehende Fluide zu modifizieren. Die bisher genutzten Fluide besaßen, wie bereits erwähnt, eine Temperaturabhängigkeit. Im Folgenden wird ein neues,inkompressibles Fluid mit konstanten Materialeigenschaften erstellt und anschließend dem Netz hinzugefügt.\n",
    "\n",
    "In einem ersten Schritt werden dazu die gewünschten Materialeigenschaften erstellt. Diese Eigenschaften werden dann von einem Fluid-Container aufgenommen. Datenstrukturtechnisch handelt es sich sowohl bei den Eigenschaften, als auch bei dem eigentlichen Fluid, um Klassen."
   ]
  },
  {
   "cell_type": "code",
   "execution_count": 9,
   "metadata": {},
   "outputs": [],
   "source": [
    "import pandapipes.properties.fluids as fl\n",
    "density_const = fl.FluidPropertyConstant(900)\n",
    "viscosity_const = fl.FluidPropertyConstant(0.002)\n",
    "heat_capacity_const = fl.FluidPropertyConstant(4000)"
   ]
  },
  {
   "cell_type": "markdown",
   "metadata": {},
   "source": [
    "Die drei Eigenschaften  Dichte (density), Viskosität (viscosity) und Wärmekapazität (heat_capacity) werden in jedem Fall benötigt. Für jede Eigenschaft wird ein Objekt der Klasse \"FluidPropertyConstant\" angelegt und der konstante Wert der Eigenschaft dem Konstruktor übergeben. Die Eigenschaften werden alle in den entsprechenden SI-Einheiten definiert.\n",
    "\n",
    "Obwohl wir hier nur konstante Eigenschaften betrachten, stellt pandapipes auch Klassen zur Verfügung, mit deren Hilfe aus Daten inter- und extrapoliert werden kann. Diese Klassen werden entsprechend auch für die bereits vorhandenen Fluide genutzt, hier aber nicht weiter betrachtet.\n",
    "\n",
    "Es folgt der zweite Schritt, in dem der Fluid-Container erstellt wird und die bereits definierten Eigenschaften diesem hinzugefügt werden."
   ]
  },
  {
   "cell_type": "code",
   "execution_count": 10,
   "metadata": {},
   "outputs": [],
   "source": [
    "water_const =  fl.Fluid(\"water_const\",\"liquid\")\n",
    "water_const.add_property(property_name=\"density\",prop=density_const)\n",
    "water_const.add_property(property_name=\"viscosity\",prop=viscosity_const)\n",
    "water_const.add_property(property_name=\"heat_capacity\",prop= heat_capacity_const)"
   ]
  },
  {
   "cell_type": "markdown",
   "metadata": {},
   "source": [
    "Das Fluid ist jetzt für die Berechnung inkompressibler Medien geeignet. Mit dem Befehl"
   ]
  },
  {
   "cell_type": "code",
   "execution_count": 11,
   "metadata": {},
   "outputs": [],
   "source": [
    "fl._add_fluid_to_net(net,water_const)"
   ]
  },
  {
   "cell_type": "markdown",
   "metadata": {},
   "source": [
    "kann das Fluid dem bereits erstellten Netz hinzugefügt werden. Durch erneutes Plotten der Fluideigenschaften stellen wir fest, dass das alte Fluid ersetzt worden ist."
   ]
  },
  {
   "cell_type": "code",
   "execution_count": 12,
   "metadata": {},
   "outputs": [
    {
     "data": {
      "text/plain": [
       "Fluid water_const (liquid) with properties:\n",
       "   - density (Constant)\n",
       "   - viscosity (Constant)\n",
       "   - heat_capacity (Constant)"
      ]
     },
     "execution_count": 12,
     "metadata": {},
     "output_type": "execute_result"
    }
   ],
   "source": [
    "net.fluid"
   ]
  },
  {
   "cell_type": "markdown",
   "metadata": {},
   "source": [
    "## Lessons learned"
   ]
  },
  {
   "cell_type": "markdown",
   "metadata": {
    "collapsed": true
   },
   "source": [
    "Nach dem Durcharbeiten dieses Tutorials sollten Sie wissen,\n",
    "\n",
    "- dass es eine Komponentenbibliothek in pandapipes gibt, aus der Daten für Rohrleitungen und Pumpen entnommen werden können.\n",
    "- wie Sie Komponenten aus der Bibliothek nutzen können.\n",
    "- wie Sie neue Einträge der Bibliothek hinzufügen können.\n",
    "- wie Fluide in pandapipes beschrieben werden.\n",
    "- wie Sie herausfinden können, welche Fluide pandapipes bereits bereitstellt und wie diese einem Netz hinzugefügt werden können.\n",
    "- wie Sie eigene Fluide mit konstanten Stoffeigenschaften erzeugen können."
   ]
  },
  {
   "cell_type": "markdown",
   "metadata": {},
   "source": [
    "## Aufgaben"
   ]
  },
  {
   "cell_type": "markdown",
   "metadata": {},
   "source": [
    "1. Wenn Sie mit dem konstanten Fluid erneut eine Berechnung durchführen, so erscheint in der Konsole eine Warnung. Können Sie sich vorstellen, warum diese angezeigt wird?\n",
    "2. Wählen Sie eine andere Rohrleitung aus der Bibliothek aus und rechnen Sie erneut. "
   ]
  }
 ],
 "metadata": {
  "anaconda-cloud": {},
  "kernelspec": {
   "display_name": "Python 3",
   "language": "python",
   "name": "python3"
  },
  "language_info": {
   "codemirror_mode": {
    "name": "ipython",
    "version": 3
   },
   "file_extension": ".py",
   "mimetype": "text/x-python",
   "name": "python",
   "nbconvert_exporter": "python",
   "pygments_lexer": "ipython3",
   "version": "3.7.4"
  }
 },
 "nbformat": 4,
 "nbformat_minor": 1
}
