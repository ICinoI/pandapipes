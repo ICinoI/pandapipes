{
 "cells": [
  {
   "cell_type": "markdown",
   "metadata": {},
   "source": [
    "# Netzwerke modellieren mit pandapipes"
   ]
  },
  {
   "cell_type": "markdown",
   "metadata": {},
   "source": [
    "Diese Einführung stellt die von pandapipes genutzten Datenstrukturen vor und zeigt, wie mit Hilfe der pandapipes API Netzwerke erstellt werden können. Das folgende Beispiel enthält die gängigsten Komponenten, die im Rahmen von pandapipes eingesetzt werden.\n",
    "\n",
    "<img src=\"pics/simple_network-1.png\">\n",
    "\n",
    "Die pandapipes-Umgebung basiert auf der Python-Bibliothek \"pandas\". Ein Netzwerk enthält Tabellen für jeden Komponententyp, der eingesetzt wird. Die Zeilen der Tabellen entsprechen den tatsächlich im Netzwerk vorhandenen Komponenten. Jede Zeile in einer Komponententabelle repräsentiert also eine Komponente des jeweiligen Typs. Die Spalten entsprechen den Eigenschaften des Komponententyps.\n",
    "\n",
    "Durch das Ausführen der folgenden Code-Zellen des Notebooks werden die für das betrachtete Netz benötigten Komponententabellen erstellt. Wenn Sie weitere Informationen zu den einzelnen Parametern der Komponenten benötigen, so finden Sie diese in der pandapipes-Dokumentation unter Punkt \"Datastructure and Components\".\n"
   ]
  },
  {
   "cell_type": "markdown",
   "metadata": {},
   "source": [
    "### Leeres Netzwerk"
   ]
  },
  {
   "cell_type": "markdown",
   "metadata": {},
   "source": [
    "Zunächst wird pandapipes importiert und ein leeres Netzwerk erzeugt:\n",
    "\n",
    "Für jede Berechnung ist es wichtig, ein Transportmedium auszuwählen. Obwohl auch eigene Fluide definiert werden können, greifen wir im Rahmen dieses Tutorials auf die Fluidbibliothek zurück. Ein Fluid wird über die Angabe des entsprechenden Namens aus der Bibliothek geladen. Namenskürzel sind z.B.  <span style=\"color:green\">hgas</span>, <span style=\"color:green\">lgas</span>,  <span style=\"color:green\">hydrogen</span>,\n",
    "<span style=\"color:green\">water</span>, und <span style=\"color:green\">air</span>.\n",
    "\n",
    "Da wir ein Erdgasnetz erzeugen wollen, wählen wir <span style=\"color:green\">lgas</span> aus der Bibliothek aus."
   ]
  },
  {
   "cell_type": "code",
   "execution_count": null,
   "metadata": {
    "scrolled": true
   },
   "outputs": [],
   "source": [
    "import pandapipes as pp"
   ]
  },
  {
   "cell_type": "code",
   "execution_count": null,
   "metadata": {},
   "outputs": [],
   "source": [
    "net = pp.create_empty_network(fluid=\"lgas\") # create an empty network"
   ]
  },
  {
   "cell_type": "markdown",
   "metadata": {},
   "source": [
    "An diesem Punkt enthält das Netz noch keinerlei Komponenten. Es dient aber als ein Container für die Komponententabellen und netzwerkspezifische Parameter."
   ]
  },
  {
   "cell_type": "code",
   "execution_count": 3,
   "metadata": {},
   "outputs": [
    {
     "data": {
      "text/plain": [
       "This pandapipes network includes the following parameter tables:\n",
       "   - std_type (2 elements).\n",
       "It contains the following fluid: \n",
       "Fluid lgas (gas) with properties:\n",
       "   - density (InterExtra)\n",
       "   - viscosity (InterExtra)\n",
       "   - heat_capacity (InterExtra)\n",
       "   - molar_mass (Constant)\n",
       "   - compressibility (Linear)\n",
       "   - der_compressibility (Constant)\n",
       "   - lhv (Constant)\n",
       "   - hhv (Constant)\n",
       "and uses the following component models:\n",
       "   - Junction\n",
       "   - Pipe\n",
       "   - ExtGrid"
      ]
     },
     "execution_count": 3,
     "metadata": {},
     "output_type": "execute_result"
    }
   ],
   "source": [
    "net"
   ]
  },
  {
   "cell_type": "markdown",
   "metadata": {},
   "source": [
    "Die <span style=\"color:blue\">create</span>-Funktionen werden nun eingesetzt, um neue Komponenten zu erzeugen. Diese werden automatisch den entsprechenden Tabellen hinzugefügt. "
   ]
  },
  {
   "cell_type": "markdown",
   "metadata": {},
   "source": [
    "### Junctions"
   ]
  },
  {
   "cell_type": "markdown",
   "metadata": {},
   "source": [
    "<img src=\"pics/simple_network-junc.png\">\n",
    "\n",
    "In einem ersten Schritt werden die Knotenpunkte des Netzwerks erstellt, zwischen denen Rohrleitungen und andere Komponenten verlaufen. Diese Knotenpunkte werden \"junctions\" genannt. Insgesamt werden davon sechs benötigt. Für jeden Knotenpunkt wird zudem ein Anfangswert benötigt. Bei diesem handelt es sich um einen initialen Schätzwert, der im Laufe der Berechnung angepasst und am Ende durch das Berechnungsergebnis ersetzt wird. Der Anfangswert beträgt 1.0 bar.\n",
    "\n",
    "Außerdem wird eine Temperatur für das Fluid definiert. Diese wird für die hydraulischen Berechnungen benötigt.\n",
    "\n",
    "Das Vergeben von Namen ist optional, erhöht aber die Lesbarkeit der Ergebnisse. \n",
    "\n",
    "Diese Werte werden als Parameter der create_junction-Funktion übergeben."
   ]
  },
  {
   "cell_type": "code",
   "execution_count": 4,
   "metadata": {},
   "outputs": [],
   "source": [
    "junction1 = pp.create_junction(net, pn_bar=1.0, tfluid_k=293.15, name=\"Connection to External Grid\")\n",
    "junction2 = pp.create_junction(net, pn_bar=1.0, tfluid_k=293.15, name=\"Junction 2\")\n",
    "junction3 = pp.create_junction(net, pn_bar=1.0, tfluid_k=293.15, name=\"Junction 3\")\n",
    "junction4 = pp.create_junction(net, pn_bar=1.0, tfluid_k=293.15, name=\"Junction 4\")\n",
    "junction5 = pp.create_junction(net, pn_bar=1.0, tfluid_k=293.15, name=\"Junction 5\")\n",
    "junction6 = pp.create_junction(net, pn_bar=1.0, tfluid_k=293.15, name=\"Junction 6\")"
   ]
  },
  {
   "cell_type": "markdown",
   "metadata": {},
   "source": [
    "Die junctions befinden sich jetzt im Netz-Container und können abgerufen werden. Einigen Parametern, die beim Funktionsaufruf nicht explizit erwähnt worden sind, wurden Standardwerte zugewiesen."
   ]
  },
  {
   "cell_type": "code",
   "execution_count": 5,
   "metadata": {},
   "outputs": [
    {
     "data": {
      "text/html": [
       "<div>\n",
       "<style scoped>\n",
       "    .dataframe tbody tr th:only-of-type {\n",
       "        vertical-align: middle;\n",
       "    }\n",
       "\n",
       "    .dataframe tbody tr th {\n",
       "        vertical-align: top;\n",
       "    }\n",
       "\n",
       "    .dataframe thead th {\n",
       "        text-align: right;\n",
       "    }\n",
       "</style>\n",
       "<table border=\"1\" class=\"dataframe\">\n",
       "  <thead>\n",
       "    <tr style=\"text-align: right;\">\n",
       "      <th></th>\n",
       "      <th>name</th>\n",
       "      <th>pn_bar</th>\n",
       "      <th>tfluid_k</th>\n",
       "      <th>height_m</th>\n",
       "      <th>in_service</th>\n",
       "      <th>type</th>\n",
       "    </tr>\n",
       "  </thead>\n",
       "  <tbody>\n",
       "    <tr>\n",
       "      <th>0</th>\n",
       "      <td>Connection to External Grid</td>\n",
       "      <td>1.0</td>\n",
       "      <td>293.15</td>\n",
       "      <td>0.0</td>\n",
       "      <td>True</td>\n",
       "      <td>junction</td>\n",
       "    </tr>\n",
       "    <tr>\n",
       "      <th>1</th>\n",
       "      <td>Junction 2</td>\n",
       "      <td>1.0</td>\n",
       "      <td>293.15</td>\n",
       "      <td>0.0</td>\n",
       "      <td>True</td>\n",
       "      <td>junction</td>\n",
       "    </tr>\n",
       "    <tr>\n",
       "      <th>2</th>\n",
       "      <td>Junction 3</td>\n",
       "      <td>1.0</td>\n",
       "      <td>293.15</td>\n",
       "      <td>0.0</td>\n",
       "      <td>True</td>\n",
       "      <td>junction</td>\n",
       "    </tr>\n",
       "    <tr>\n",
       "      <th>3</th>\n",
       "      <td>Junction 4</td>\n",
       "      <td>1.0</td>\n",
       "      <td>293.15</td>\n",
       "      <td>0.0</td>\n",
       "      <td>True</td>\n",
       "      <td>junction</td>\n",
       "    </tr>\n",
       "    <tr>\n",
       "      <th>4</th>\n",
       "      <td>Junction 5</td>\n",
       "      <td>1.0</td>\n",
       "      <td>293.15</td>\n",
       "      <td>0.0</td>\n",
       "      <td>True</td>\n",
       "      <td>junction</td>\n",
       "    </tr>\n",
       "    <tr>\n",
       "      <th>5</th>\n",
       "      <td>Junction 6</td>\n",
       "      <td>1.0</td>\n",
       "      <td>293.15</td>\n",
       "      <td>0.0</td>\n",
       "      <td>True</td>\n",
       "      <td>junction</td>\n",
       "    </tr>\n",
       "  </tbody>\n",
       "</table>\n",
       "</div>"
      ],
      "text/plain": [
       "                          name  pn_bar  tfluid_k  height_m  in_service  \\\n",
       "0  Connection to External Grid     1.0    293.15       0.0        True   \n",
       "1                   Junction 2     1.0    293.15       0.0        True   \n",
       "2                   Junction 3     1.0    293.15       0.0        True   \n",
       "3                   Junction 4     1.0    293.15       0.0        True   \n",
       "4                   Junction 5     1.0    293.15       0.0        True   \n",
       "5                   Junction 6     1.0    293.15       0.0        True   \n",
       "\n",
       "       type  \n",
       "0  junction  \n",
       "1  junction  \n",
       "2  junction  \n",
       "3  junction  \n",
       "4  junction  \n",
       "5  junction  "
      ]
     },
     "execution_count": 5,
     "metadata": {},
     "output_type": "execute_result"
    }
   ],
   "source": [
    "net.junction # show junction table"
   ]
  },
  {
   "cell_type": "markdown",
   "metadata": {},
   "source": [
    "Alle create-Funktionen geben den pandapipes-Index des Elements zurück, welches erzeugt wurde. Beispielsweise entspricht die Variable \"juncction1\" dem Index der junction mit dem Namen \"Connection to External Grid\". Der Index ist entsprechend 0."
   ]
  },
  {
   "cell_type": "code",
   "execution_count": 6,
   "metadata": {},
   "outputs": [
    {
     "data": {
      "text/plain": [
       "0"
      ]
     },
     "execution_count": 6,
     "metadata": {},
     "output_type": "execute_result"
    }
   ],
   "source": [
    "junction1"
   ]
  },
  {
   "cell_type": "code",
   "execution_count": 7,
   "metadata": {},
   "outputs": [
    {
     "data": {
      "text/plain": [
       "name          Connection to External Grid\n",
       "pn_bar                                  1\n",
       "tfluid_k                           293.15\n",
       "height_m                                0\n",
       "in_service                           True\n",
       "type                             junction\n",
       "Name: 0, dtype: object"
      ]
     },
     "execution_count": 7,
     "metadata": {},
     "output_type": "execute_result"
    }
   ],
   "source": [
    "net.junction.loc[junction1]"
   ]
  },
  {
   "cell_type": "markdown",
   "metadata": {},
   "source": [
    "Wir nutzen diese Variablen im Folgenden, um Komponenten, wie z.B. Rohre, mit den junctions zu verbinden."
   ]
  },
  {
   "cell_type": "markdown",
   "metadata": {},
   "source": [
    "### External Grid"
   ]
  },
  {
   "cell_type": "markdown",
   "metadata": {},
   "source": [
    "<img src=\"pics/simple_network-ext_grid.png\">\n",
    "\n",
    "Ein External Grid repräsentiert eine mögliche Schnittstelle zum einem Netzbereich, der vom pandapipes-Modell nicht erfasst wird. Mathematisch gesehen wird der Druck an dem Knoten, an dem das External Grid angeschlossen ist, während der Berechnung nicht mehr angepasst. Sie teilen dem Programm damit mit, dass Ihnen der Wert des Druckes an dieser Stelle bereits bekannt ist. Für eine erfolgreiche Berechnung ist die Bekanntgabe eines festen Druckwertes an wenigstens einer Position im Netz unbedingt notwendig. Das External Grid erfüllt mit diesen Eigenschaften die Funktions eines slack-Knotens.\n",
    "\n",
    "in unserem Beispiel wird das External Grid mit der Junction-Variable junction1 verbunden. Der Druck beträgt 1.1 bar. In der späteren Auswertung wird der Druck, den Sie an junction1 abrufen, folglich ebenfalls 1.1 bar betragen.\n"
   ]
  },
  {
   "cell_type": "code",
   "execution_count": 8,
   "metadata": {},
   "outputs": [
    {
     "data": {
      "text/html": [
       "<div>\n",
       "<style scoped>\n",
       "    .dataframe tbody tr th:only-of-type {\n",
       "        vertical-align: middle;\n",
       "    }\n",
       "\n",
       "    .dataframe tbody tr th {\n",
       "        vertical-align: top;\n",
       "    }\n",
       "\n",
       "    .dataframe thead th {\n",
       "        text-align: right;\n",
       "    }\n",
       "</style>\n",
       "<table border=\"1\" class=\"dataframe\">\n",
       "  <thead>\n",
       "    <tr style=\"text-align: right;\">\n",
       "      <th></th>\n",
       "      <th>name</th>\n",
       "      <th>junction</th>\n",
       "      <th>p_bar</th>\n",
       "      <th>t_k</th>\n",
       "      <th>in_service</th>\n",
       "      <th>type</th>\n",
       "    </tr>\n",
       "  </thead>\n",
       "  <tbody>\n",
       "    <tr>\n",
       "      <th>0</th>\n",
       "      <td>Grid Connection</td>\n",
       "      <td>0</td>\n",
       "      <td>1.1</td>\n",
       "      <td>293.15</td>\n",
       "      <td>True</td>\n",
       "      <td>pt</td>\n",
       "    </tr>\n",
       "  </tbody>\n",
       "</table>\n",
       "</div>"
      ],
      "text/plain": [
       "              name  junction  p_bar     t_k  in_service type\n",
       "0  Grid Connection         0    1.1  293.15        True   pt"
      ]
     },
     "execution_count": 8,
     "metadata": {},
     "output_type": "execute_result"
    }
   ],
   "source": [
    "medium_pressure_grid = pp.create_ext_grid(net, junction=junction1, p_bar=1.1, t_k=293.15, name=\"Grid Connection\")\n",
    "\n",
    "net.ext_grid # show external grid table"
   ]
  },
  {
   "cell_type": "markdown",
   "metadata": {},
   "source": [
    "### Rohre"
   ]
  },
  {
   "cell_type": "markdown",
   "metadata": {},
   "source": [
    "Das Netzwerk enthält 5 Rohre, die zwischen je zwei junctions verlaufen. Die Verbindungspunkte und die jeweiligen Rohrlängen sind im Diagramm zu sehen:\n",
    "\n",
    "<img src=\"pics/simple_network-pipes.png\">\n",
    "\n",
    "Alle Rohre haben einen Durchmesser von 300 mm. "
   ]
  },
  {
   "cell_type": "code",
   "execution_count": 9,
   "metadata": {},
   "outputs": [],
   "source": [
    "pipe1 = pp.create_pipe_from_parameters(net, from_junction=junction1, to_junction=junction2, length_km=10, diameter_m=0.3, name=\"Pipe 1\")\n",
    "pipe2 = pp.create_pipe_from_parameters(net, from_junction=junction2, to_junction=junction3, length_km=2, diameter_m=0.3, name=\"Pipe 2\")\n",
    "pipe3 = pp.create_pipe_from_parameters(net, from_junction=junction2, to_junction=junction4, length_km=2.5, diameter_m=0.3, name=\"Pipe 3\")\n",
    "pipe4 = pp.create_pipe_from_parameters(net, from_junction=junction3, to_junction=junction5, length_km=1, diameter_m=0.3, name=\"Pipe 4\")\n",
    "pipe5 = pp.create_pipe_from_parameters(net, from_junction=junction4, to_junction=junction6, length_km=1, diameter_m=0.3, name=\"Pipe 5\")"
   ]
  },
  {
   "cell_type": "markdown",
   "metadata": {},
   "source": [
    "Damit sieht die Tabelle der Rohrkomponenten wie folgt aus:"
   ]
  },
  {
   "cell_type": "code",
   "execution_count": 10,
   "metadata": {},
   "outputs": [
    {
     "data": {
      "text/html": [
       "<div>\n",
       "<style scoped>\n",
       "    .dataframe tbody tr th:only-of-type {\n",
       "        vertical-align: middle;\n",
       "    }\n",
       "\n",
       "    .dataframe tbody tr th {\n",
       "        vertical-align: top;\n",
       "    }\n",
       "\n",
       "    .dataframe thead th {\n",
       "        text-align: right;\n",
       "    }\n",
       "</style>\n",
       "<table border=\"1\" class=\"dataframe\">\n",
       "  <thead>\n",
       "    <tr style=\"text-align: right;\">\n",
       "      <th></th>\n",
       "      <th>name</th>\n",
       "      <th>from_junction</th>\n",
       "      <th>to_junction</th>\n",
       "      <th>std_type</th>\n",
       "      <th>length_km</th>\n",
       "      <th>diameter_m</th>\n",
       "      <th>k_mm</th>\n",
       "      <th>loss_coefficient</th>\n",
       "      <th>alpha_w_per_m2k</th>\n",
       "      <th>text_k</th>\n",
       "      <th>qext_w</th>\n",
       "      <th>sections</th>\n",
       "      <th>in_service</th>\n",
       "      <th>type</th>\n",
       "    </tr>\n",
       "  </thead>\n",
       "  <tbody>\n",
       "    <tr>\n",
       "      <th>0</th>\n",
       "      <td>Pipe 1</td>\n",
       "      <td>0</td>\n",
       "      <td>1</td>\n",
       "      <td>None</td>\n",
       "      <td>10.0</td>\n",
       "      <td>0.3</td>\n",
       "      <td>1.0</td>\n",
       "      <td>0.0</td>\n",
       "      <td>0.0</td>\n",
       "      <td>293.0</td>\n",
       "      <td>0.0</td>\n",
       "      <td>1</td>\n",
       "      <td>True</td>\n",
       "      <td>pipe</td>\n",
       "    </tr>\n",
       "    <tr>\n",
       "      <th>1</th>\n",
       "      <td>Pipe 2</td>\n",
       "      <td>1</td>\n",
       "      <td>2</td>\n",
       "      <td>None</td>\n",
       "      <td>2.0</td>\n",
       "      <td>0.3</td>\n",
       "      <td>1.0</td>\n",
       "      <td>0.0</td>\n",
       "      <td>0.0</td>\n",
       "      <td>293.0</td>\n",
       "      <td>0.0</td>\n",
       "      <td>1</td>\n",
       "      <td>True</td>\n",
       "      <td>pipe</td>\n",
       "    </tr>\n",
       "    <tr>\n",
       "      <th>2</th>\n",
       "      <td>Pipe 3</td>\n",
       "      <td>1</td>\n",
       "      <td>3</td>\n",
       "      <td>None</td>\n",
       "      <td>2.5</td>\n",
       "      <td>0.3</td>\n",
       "      <td>1.0</td>\n",
       "      <td>0.0</td>\n",
       "      <td>0.0</td>\n",
       "      <td>293.0</td>\n",
       "      <td>0.0</td>\n",
       "      <td>1</td>\n",
       "      <td>True</td>\n",
       "      <td>pipe</td>\n",
       "    </tr>\n",
       "    <tr>\n",
       "      <th>3</th>\n",
       "      <td>Pipe 4</td>\n",
       "      <td>2</td>\n",
       "      <td>4</td>\n",
       "      <td>None</td>\n",
       "      <td>1.0</td>\n",
       "      <td>0.3</td>\n",
       "      <td>1.0</td>\n",
       "      <td>0.0</td>\n",
       "      <td>0.0</td>\n",
       "      <td>293.0</td>\n",
       "      <td>0.0</td>\n",
       "      <td>1</td>\n",
       "      <td>True</td>\n",
       "      <td>pipe</td>\n",
       "    </tr>\n",
       "    <tr>\n",
       "      <th>4</th>\n",
       "      <td>Pipe 5</td>\n",
       "      <td>3</td>\n",
       "      <td>5</td>\n",
       "      <td>None</td>\n",
       "      <td>1.0</td>\n",
       "      <td>0.3</td>\n",
       "      <td>1.0</td>\n",
       "      <td>0.0</td>\n",
       "      <td>0.0</td>\n",
       "      <td>293.0</td>\n",
       "      <td>0.0</td>\n",
       "      <td>1</td>\n",
       "      <td>True</td>\n",
       "      <td>pipe</td>\n",
       "    </tr>\n",
       "  </tbody>\n",
       "</table>\n",
       "</div>"
      ],
      "text/plain": [
       "     name  from_junction  to_junction std_type  length_km  diameter_m  k_mm  \\\n",
       "0  Pipe 1              0            1     None       10.0         0.3   1.0   \n",
       "1  Pipe 2              1            2     None        2.0         0.3   1.0   \n",
       "2  Pipe 3              1            3     None        2.5         0.3   1.0   \n",
       "3  Pipe 4              2            4     None        1.0         0.3   1.0   \n",
       "4  Pipe 5              3            5     None        1.0         0.3   1.0   \n",
       "\n",
       "   loss_coefficient  alpha_w_per_m2k  text_k  qext_w  sections  in_service  \\\n",
       "0               0.0              0.0   293.0     0.0         1        True   \n",
       "1               0.0              0.0   293.0     0.0         1        True   \n",
       "2               0.0              0.0   293.0     0.0         1        True   \n",
       "3               0.0              0.0   293.0     0.0         1        True   \n",
       "4               0.0              0.0   293.0     0.0         1        True   \n",
       "\n",
       "   type  \n",
       "0  pipe  \n",
       "1  pipe  \n",
       "2  pipe  \n",
       "3  pipe  \n",
       "4  pipe  "
      ]
     },
     "execution_count": 10,
     "metadata": {},
     "output_type": "execute_result"
    }
   ],
   "source": [
    "net.pipe # show pipe table"
   ]
  },
  {
   "cell_type": "markdown",
   "metadata": {},
   "source": [
    "Die Parameter from_junction und to_junction geben die Orientierung des Rohrs an. Wenn die Flussrichtung tatsächlich aus Richtung from_junction in Richtung to_junction verläuft, ist das Vorzeichen der berechneten Strömungsgeschwindigkeit positiv. Andernfalls nimmt die Strömungsgeschwindigkeit negative Werte an."
   ]
  },
  {
   "cell_type": "markdown",
   "metadata": {},
   "source": [
    "### Ventil"
   ]
  },
  {
   "cell_type": "markdown",
   "metadata": {},
   "source": [
    "Es gibt ein Ventil zwischen Junction 5 und Junction 6. Dieses ist geöffnet, sodass das Gas das Ventil passieren kann.\n",
    "\n",
    "<img src=\"pics/simple_network-valve.png\">"
   ]
  },
  {
   "cell_type": "code",
   "execution_count": 11,
   "metadata": {},
   "outputs": [],
   "source": [
    "valve = pp.create_valve(net, from_junction=junction5, to_junction=junction6, diameter_m=0.3, opened=True)"
   ]
  },
  {
   "cell_type": "markdown",
   "metadata": {},
   "source": [
    "Wie man sieht, wird standardmäßig kein Druckverlustkoeffizient für das Ventil angegeben. Außerdem haben Ventile keine Länge. Der Druckverlustkoeffizient kann bei Bedarf modifiziert werden."
   ]
  },
  {
   "cell_type": "code",
   "execution_count": 12,
   "metadata": {},
   "outputs": [
    {
     "data": {
      "text/html": [
       "<div>\n",
       "<style scoped>\n",
       "    .dataframe tbody tr th:only-of-type {\n",
       "        vertical-align: middle;\n",
       "    }\n",
       "\n",
       "    .dataframe tbody tr th {\n",
       "        vertical-align: top;\n",
       "    }\n",
       "\n",
       "    .dataframe thead th {\n",
       "        text-align: right;\n",
       "    }\n",
       "</style>\n",
       "<table border=\"1\" class=\"dataframe\">\n",
       "  <thead>\n",
       "    <tr style=\"text-align: right;\">\n",
       "      <th></th>\n",
       "      <th>name</th>\n",
       "      <th>from_junction</th>\n",
       "      <th>to_junction</th>\n",
       "      <th>diameter_m</th>\n",
       "      <th>opened</th>\n",
       "      <th>loss_coefficient</th>\n",
       "      <th>type</th>\n",
       "    </tr>\n",
       "  </thead>\n",
       "  <tbody>\n",
       "    <tr>\n",
       "      <th>0</th>\n",
       "      <td>None</td>\n",
       "      <td>4</td>\n",
       "      <td>5</td>\n",
       "      <td>0.3</td>\n",
       "      <td>True</td>\n",
       "      <td>0.0</td>\n",
       "      <td>valve</td>\n",
       "    </tr>\n",
       "  </tbody>\n",
       "</table>\n",
       "</div>"
      ],
      "text/plain": [
       "   name  from_junction  to_junction  diameter_m  opened  loss_coefficient  \\\n",
       "0  None              4            5         0.3    True               0.0   \n",
       "\n",
       "    type  \n",
       "0  valve  "
      ]
     },
     "execution_count": 12,
     "metadata": {},
     "output_type": "execute_result"
    }
   ],
   "source": [
    "net.valve # show valve table"
   ]
  },
  {
   "cell_type": "markdown",
   "metadata": {},
   "source": [
    "### Senke\n",
    "\n",
    "<img src=\"pics/simple_network-sink.png\">"
   ]
  },
  {
   "cell_type": "markdown",
   "metadata": {},
   "source": [
    "Mit Hilfe einer Senke kann eine konstante Abnahme definiert werden. An dieser Stelle wird eine sink-Komponente mit einem Massestrom in Höhe von 545 g/s definiert. Senken und Quellen werden immer einer bestimmten Junction zugeordnet. Das Vorzeichen des Massestroms ist positiv, wenn ein Massestrom aus dem System entnommen wird.\n"
   ]
  },
  {
   "cell_type": "code",
   "execution_count": 13,
   "metadata": {},
   "outputs": [
    {
     "data": {
      "text/html": [
       "<div>\n",
       "<style scoped>\n",
       "    .dataframe tbody tr th:only-of-type {\n",
       "        vertical-align: middle;\n",
       "    }\n",
       "\n",
       "    .dataframe tbody tr th {\n",
       "        vertical-align: top;\n",
       "    }\n",
       "\n",
       "    .dataframe thead th {\n",
       "        text-align: right;\n",
       "    }\n",
       "</style>\n",
       "<table border=\"1\" class=\"dataframe\">\n",
       "  <thead>\n",
       "    <tr style=\"text-align: right;\">\n",
       "      <th></th>\n",
       "      <th>name</th>\n",
       "      <th>junction</th>\n",
       "      <th>mdot_kg_per_s</th>\n",
       "      <th>scaling</th>\n",
       "      <th>in_service</th>\n",
       "      <th>type</th>\n",
       "    </tr>\n",
       "  </thead>\n",
       "  <tbody>\n",
       "    <tr>\n",
       "      <th>0</th>\n",
       "      <td>Sink 1</td>\n",
       "      <td>3</td>\n",
       "      <td>0.545</td>\n",
       "      <td>1.0</td>\n",
       "      <td>True</td>\n",
       "      <td>sink</td>\n",
       "    </tr>\n",
       "  </tbody>\n",
       "</table>\n",
       "</div>"
      ],
      "text/plain": [
       "     name  junction  mdot_kg_per_s  scaling  in_service  type\n",
       "0  Sink 1         3          0.545      1.0        True  sink"
      ]
     },
     "execution_count": 13,
     "metadata": {},
     "output_type": "execute_result"
    }
   ],
   "source": [
    "sink = pp.create_sink(net, junction=junction4, mdot_kg_per_s=0.545, name=\"Sink 1\")\n",
    "net.sink"
   ]
  },
  {
   "cell_type": "markdown",
   "metadata": {},
   "source": [
    "### Quelle\n",
    "\n",
    "<img src=\"pics/simple_network-source.png\">"
   ]
  },
  {
   "cell_type": "markdown",
   "metadata": {},
   "source": [
    "Die Source-Komponente wird genutzt, um einen Wärme- oder Massestrom in das Netz einzuspeisen. Ein denkbarer Fall ist der einer Biogas- oder CHP-Anlage, welche direkt an das Gasnetz angeschlossen ist. \n",
    "\n",
    "In diesem Beispiel nehmen wir an, dass eine Biogasanlage direkt ins Gasnetz einspeist. Die Anlage liefert einen konstanten Strom in Höhe von 234 g/s. Aus Sicht der Source-Komponente ist das Vorzeichen positiv, wenn ins System eingespeist wird."
   ]
  },
  {
   "cell_type": "code",
   "execution_count": 14,
   "metadata": {},
   "outputs": [],
   "source": [
    "source = pp.create_source(net, junction=junction3, mdot_kg_per_s=0.234, name=\"Source 1\")"
   ]
  },
  {
   "cell_type": "code",
   "execution_count": 15,
   "metadata": {},
   "outputs": [
    {
     "data": {
      "text/html": [
       "<div>\n",
       "<style scoped>\n",
       "    .dataframe tbody tr th:only-of-type {\n",
       "        vertical-align: middle;\n",
       "    }\n",
       "\n",
       "    .dataframe tbody tr th {\n",
       "        vertical-align: top;\n",
       "    }\n",
       "\n",
       "    .dataframe thead th {\n",
       "        text-align: right;\n",
       "    }\n",
       "</style>\n",
       "<table border=\"1\" class=\"dataframe\">\n",
       "  <thead>\n",
       "    <tr style=\"text-align: right;\">\n",
       "      <th></th>\n",
       "      <th>name</th>\n",
       "      <th>junction</th>\n",
       "      <th>mdot_kg_per_s</th>\n",
       "      <th>scaling</th>\n",
       "      <th>in_service</th>\n",
       "      <th>type</th>\n",
       "    </tr>\n",
       "  </thead>\n",
       "  <tbody>\n",
       "    <tr>\n",
       "      <th>0</th>\n",
       "      <td>Source 1</td>\n",
       "      <td>2</td>\n",
       "      <td>0.234</td>\n",
       "      <td>1.0</td>\n",
       "      <td>True</td>\n",
       "      <td>source</td>\n",
       "    </tr>\n",
       "  </tbody>\n",
       "</table>\n",
       "</div>"
      ],
      "text/plain": [
       "       name  junction  mdot_kg_per_s  scaling  in_service    type\n",
       "0  Source 1         2          0.234      1.0        True  source"
      ]
     },
     "execution_count": 15,
     "metadata": {},
     "output_type": "execute_result"
    }
   ],
   "source": [
    "net.source"
   ]
  },
  {
   "cell_type": "markdown",
   "metadata": {},
   "source": [
    "Die Modellierung des Netzes ist damit abgeschlossen. Abschließend können alle Komponenten des Netzes angezeigt werden."
   ]
  },
  {
   "cell_type": "code",
   "execution_count": 16,
   "metadata": {},
   "outputs": [
    {
     "data": {
      "text/plain": [
       "This pandapipes network includes the following parameter tables:\n",
       "   - junction (6 elements)\n",
       "   - pipe (5 elements)\n",
       "   - ext_grid (1 elements)\n",
       "   - std_type (2 elements)\n",
       "   - valve (1 elements)\n",
       "   - sink (1 elements)\n",
       "   - source (1 elements).\n",
       "It contains the following fluid: \n",
       "Fluid lgas (gas) with properties:\n",
       "   - density (InterExtra)\n",
       "   - viscosity (InterExtra)\n",
       "   - heat_capacity (InterExtra)\n",
       "   - molar_mass (Constant)\n",
       "   - compressibility (Linear)\n",
       "   - der_compressibility (Constant)\n",
       "   - lhv (Constant)\n",
       "   - hhv (Constant)\n",
       "and uses the following component models:\n",
       "   - Junction\n",
       "   - Pipe\n",
       "   - ExtGrid\n",
       "   - Valve\n",
       "   - Sink\n",
       "   - Source"
      ]
     },
     "execution_count": 16,
     "metadata": {},
     "output_type": "execute_result"
    }
   ],
   "source": [
    "net"
   ]
  },
  {
   "cell_type": "markdown",
   "metadata": {},
   "source": [
    "Die eigentliche Berechnung wird mit dem `pipeflow`-Kommando gestartet:"
   ]
  },
  {
   "cell_type": "code",
   "execution_count": 17,
   "metadata": {
    "pycharm": {
     "name": "#%%\n"
    }
   },
   "outputs": [],
   "source": [
    "pp.pipeflow(net)"
   ]
  },
  {
   "cell_type": "markdown",
   "metadata": {
    "pycharm": {
     "name": "#%% md\n"
    }
   },
   "source": [
    "Ergebnisse werden in Tabellen mit dem Präfix `res_...` gespeichert. Auch diese Tabellen sind nach der Berechnung im  `net`-Container abgelegt. "
   ]
  },
  {
   "cell_type": "code",
   "execution_count": 18,
   "metadata": {
    "pycharm": {
     "name": "#%%\n"
    }
   },
   "outputs": [
    {
     "data": {
      "text/plain": [
       "This pandapipes network includes the following parameter tables:\n",
       "   - junction (6 elements)\n",
       "   - pipe (5 elements)\n",
       "   - ext_grid (1 elements)\n",
       "   - std_type (2 elements)\n",
       "   - valve (1 elements)\n",
       "   - sink (1 elements)\n",
       "   - source (1 elements)\n",
       "and the following results tables:\n",
       "   - res_junction (6 elements)\n",
       "   - res_pipe (5 elements)\n",
       "   - res_ext_grid (1 elements)\n",
       "   - res_valve (1 elements)\n",
       "   - res_sink (1 elements)\n",
       "   - res_source (1 elements).\n",
       "It contains the following fluid: \n",
       "Fluid lgas (gas) with properties:\n",
       "   - density (InterExtra)\n",
       "   - viscosity (InterExtra)\n",
       "   - heat_capacity (InterExtra)\n",
       "   - molar_mass (Constant)\n",
       "   - compressibility (Linear)\n",
       "   - der_compressibility (Constant)\n",
       "   - lhv (Constant)\n",
       "   - hhv (Constant)\n",
       "and uses the following component models:\n",
       "   - Junction\n",
       "   - Pipe\n",
       "   - ExtGrid\n",
       "   - Valve\n",
       "   - Sink\n",
       "   - Source"
      ]
     },
     "execution_count": 18,
     "metadata": {},
     "output_type": "execute_result"
    }
   ],
   "source": [
    "net # result tables have been added to the net "
   ]
  },
  {
   "cell_type": "code",
   "execution_count": null,
   "metadata": {
    "pycharm": {
     "name": "#%%\n"
    }
   },
   "outputs": [],
   "source": [
    "net.res_junction # calculated pressure and temperature at junctions"
   ]
  },
  {
   "cell_type": "code",
   "execution_count": 19,
   "metadata": {
    "pycharm": {
     "name": "#%%\n"
    }
   },
   "outputs": [
    {
     "data": {
      "text/html": [
       "<div>\n",
       "<style scoped>\n",
       "    .dataframe tbody tr th:only-of-type {\n",
       "        vertical-align: middle;\n",
       "    }\n",
       "\n",
       "    .dataframe tbody tr th {\n",
       "        vertical-align: top;\n",
       "    }\n",
       "\n",
       "    .dataframe thead th {\n",
       "        text-align: right;\n",
       "    }\n",
       "</style>\n",
       "<table border=\"1\" class=\"dataframe\">\n",
       "  <thead>\n",
       "    <tr style=\"text-align: right;\">\n",
       "      <th></th>\n",
       "      <th>v_from_m_per_s</th>\n",
       "      <th>v_to_m_per_s</th>\n",
       "      <th>v_mean_m_per_s</th>\n",
       "      <th>p_from_bar</th>\n",
       "      <th>p_to_bar</th>\n",
       "      <th>t_from_k</th>\n",
       "      <th>t_to_k</th>\n",
       "      <th>mdot_from_kg_per_s</th>\n",
       "      <th>mdot_to_kg_per_s</th>\n",
       "      <th>vdot_norm_m3_per_s</th>\n",
       "      <th>reynolds</th>\n",
       "      <th>lambda</th>\n",
       "      <th>normfactor_from</th>\n",
       "      <th>normfactor_to</th>\n",
       "    </tr>\n",
       "  </thead>\n",
       "  <tbody>\n",
       "    <tr>\n",
       "      <th>0</th>\n",
       "      <td>3.026697</td>\n",
       "      <td>3.118526</td>\n",
       "      <td>3.071701</td>\n",
       "      <td>1.100000</td>\n",
       "      <td>1.038053</td>\n",
       "      <td>293.15</td>\n",
       "      <td>293.15</td>\n",
       "      <td>0.311000</td>\n",
       "      <td>-0.311000</td>\n",
       "      <td>0.417706</td>\n",
       "      <td>111395.955082</td>\n",
       "      <td>0.027500</td>\n",
       "      <td>0.512189</td>\n",
       "      <td>0.527729</td>\n",
       "    </tr>\n",
       "    <tr>\n",
       "      <th>1</th>\n",
       "      <td>0.515883</td>\n",
       "      <td>0.515979</td>\n",
       "      <td>0.515931</td>\n",
       "      <td>1.038053</td>\n",
       "      <td>1.037673</td>\n",
       "      <td>293.15</td>\n",
       "      <td>293.15</td>\n",
       "      <td>0.051448</td>\n",
       "      <td>-0.051448</td>\n",
       "      <td>0.069100</td>\n",
       "      <td>18427.879831</td>\n",
       "      <td>0.030398</td>\n",
       "      <td>0.527729</td>\n",
       "      <td>0.527827</td>\n",
       "    </tr>\n",
       "    <tr>\n",
       "      <th>2</th>\n",
       "      <td>0.515883</td>\n",
       "      <td>2.616772</td>\n",
       "      <td>2.609682</td>\n",
       "      <td>1.038053</td>\n",
       "      <td>1.027028</td>\n",
       "      <td>293.15</td>\n",
       "      <td>293.15</td>\n",
       "      <td>0.259552</td>\n",
       "      <td>-0.259552</td>\n",
       "      <td>0.348606</td>\n",
       "      <td>92968.075250</td>\n",
       "      <td>0.027614</td>\n",
       "      <td>0.527729</td>\n",
       "      <td>0.530594</td>\n",
       "    </tr>\n",
       "    <tr>\n",
       "      <th>3</th>\n",
       "      <td>2.862831</td>\n",
       "      <td>2.870304</td>\n",
       "      <td>2.866561</td>\n",
       "      <td>1.037673</td>\n",
       "      <td>1.032357</td>\n",
       "      <td>293.15</td>\n",
       "      <td>293.15</td>\n",
       "      <td>0.285448</td>\n",
       "      <td>-0.285448</td>\n",
       "      <td>0.383387</td>\n",
       "      <td>102243.485906</td>\n",
       "      <td>0.027551</td>\n",
       "      <td>0.527827</td>\n",
       "      <td>0.529205</td>\n",
       "    </tr>\n",
       "    <tr>\n",
       "      <th>4</th>\n",
       "      <td>-2.877835</td>\n",
       "      <td>-2.870304</td>\n",
       "      <td>-2.874063</td>\n",
       "      <td>1.027028</td>\n",
       "      <td>1.032357</td>\n",
       "      <td>293.15</td>\n",
       "      <td>293.15</td>\n",
       "      <td>-0.285448</td>\n",
       "      <td>0.285448</td>\n",
       "      <td>-0.383387</td>\n",
       "      <td>102243.485906</td>\n",
       "      <td>0.027551</td>\n",
       "      <td>0.530594</td>\n",
       "      <td>0.529205</td>\n",
       "    </tr>\n",
       "  </tbody>\n",
       "</table>\n",
       "</div>"
      ],
      "text/plain": [
       "   v_from_m_per_s  v_to_m_per_s  v_mean_m_per_s  p_from_bar  p_to_bar  \\\n",
       "0        3.026697      3.118526        3.071701    1.100000  1.038053   \n",
       "1        0.515883      0.515979        0.515931    1.038053  1.037673   \n",
       "2        0.515883      2.616772        2.609682    1.038053  1.027028   \n",
       "3        2.862831      2.870304        2.866561    1.037673  1.032357   \n",
       "4       -2.877835     -2.870304       -2.874063    1.027028  1.032357   \n",
       "\n",
       "   t_from_k  t_to_k  mdot_from_kg_per_s  mdot_to_kg_per_s  vdot_norm_m3_per_s  \\\n",
       "0    293.15  293.15            0.311000         -0.311000            0.417706   \n",
       "1    293.15  293.15            0.051448         -0.051448            0.069100   \n",
       "2    293.15  293.15            0.259552         -0.259552            0.348606   \n",
       "3    293.15  293.15            0.285448         -0.285448            0.383387   \n",
       "4    293.15  293.15           -0.285448          0.285448           -0.383387   \n",
       "\n",
       "        reynolds    lambda  normfactor_from  normfactor_to  \n",
       "0  111395.955082  0.027500         0.512189       0.527729  \n",
       "1   18427.879831  0.030398         0.527729       0.527827  \n",
       "2   92968.075250  0.027614         0.527729       0.530594  \n",
       "3  102243.485906  0.027551         0.527827       0.529205  \n",
       "4  102243.485906  0.027551         0.530594       0.529205  "
      ]
     },
     "execution_count": 19,
     "metadata": {},
     "output_type": "execute_result"
    }
   ],
   "source": [
    "net.res_pipe  # velocities, mass flows through pipes and other results\n",
    "\n"
   ]
  },
  {
   "cell_type": "markdown",
   "metadata": {},
   "source": [
    "### Lessons Learned"
   ]
  },
  {
   "cell_type": "markdown",
   "metadata": {},
   "source": [
    "Nach dem Durcharbeiten des Tutorials sollten Sie:\n",
    "    \n",
    "* wissen, welche Schritte vor dem Start einer Berechnung durchzuführen sind.\n",
    "- einen Überblick über die gängigsten pandapipes-Komponenten bekommen haben.\n",
    "- ein Gefühl dafür bekommen haben, wie man bei der Modellierung mit dem kommandozeilenbasierten Programm vorgeht und \n",
    "  wie man Parameter von neuen Komponenten modifizieren kann.\n",
    "- wissen, mit welchem Befehl eine Berechnung gestartet wird.\n",
    "- wissen, inwieweit sich die Struktur des Netz-Containers nach erfolgter Berechnung verändert und wie Sie auf Berechnungsergebnisse zugreifen können."
   ]
  },
  {
   "cell_type": "code",
   "execution_count": null,
   "metadata": {},
   "outputs": [],
   "source": []
  }
 ],
 "metadata": {
  "kernelspec": {
   "display_name": "Python 3",
   "language": "python",
   "name": "python3"
  },
  "language_info": {
   "codemirror_mode": {
    "name": "ipython",
    "version": 3
   },
   "file_extension": ".py",
   "mimetype": "text/x-python",
   "name": "python",
   "nbconvert_exporter": "python",
   "pygments_lexer": "ipython3",
   "version": "3.7.4"
  }
 },
 "nbformat": 4,
 "nbformat_minor": 2
}
